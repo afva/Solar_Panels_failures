{
 "cells": [
  {
   "cell_type": "markdown",
   "metadata": {},
   "source": [
    "# WIKI"
   ]
  },
  {
   "cell_type": "markdown",
   "metadata": {},
   "source": [
    "A continuación, se va a explicar cada sección del proyecto, en el que se va a entrar en detalle en cada una de las secciones principales, \n",
    "explicando que hace cada script y la funcionalidad que tiene cada uno de ellos.\n",
    "\n",
    "Este apartado se divide en las siguientes secciones:\n",
    "\n",
    "1. Carga_datos\n",
    "\n",
    "2. Estandarización_datos\n",
    "3. Models \n",
    "4. Train\n",
    "5. Predict"
   ]
  },
  {
   "cell_type": "markdown",
   "metadata": {},
   "source": [
    "## <u>Carga_datos</u>"
   ]
  },
  {
   "cell_type": "markdown",
   "metadata": {},
   "source": [
    "En esta seccion, se va a hablar de como los datos se llevan al repositorio de origen al repositorio de donde se cogeran los datos para comenzar a tratarlos."
   ]
  },
  {
   "cell_type": "markdown",
   "metadata": {},
   "source": [
    "### cp_imgs.py"
   ]
  },
  {
   "cell_type": "code",
   "execution_count": null,
   "metadata": {},
   "outputs": [],
   "source": [
    "def copy_imgs(src_dir, dest_dir, extensions=(\"*.jpg\", \"*.jpeg\", \"*.png\")):\n",
    "    \"\"\"\n",
    "    Esta función lleva a cabo el proceso de carga de todos los datos requeridos por el proyecto esquema_train\n",
    "\n",
    "    Parameters\n",
    "    ----------\n",
    "        - src_dir : (string). Ruta de donde vienen las imágenes.\n",
    "        - dest_dir : (string). Ruta donde se copiarán las imágenes.\n",
    "        - extensions : (tuple). Tipos de imagenes que se quieren recoger. \n",
    "\n",
    "    Returns\n",
    "    -------\n",
    "        - Las imagenes copiadas en el directorio que se queria.\n",
    "    \"\"\"\n",
    "    \n",
    "\n",
    "    try:\n",
    "        lg.debug(cpimg,'Iniciando el proceso de carga_datos...')\n",
    "        \n",
    "        if not os.path.exists(src_dir):\n",
    "            print(f\"Source directory {src_dir} does not exist.\")\n",
    "            return\n",
    "        \n",
    "        if not os.path.exists(dest_dir):\n",
    "            os.makedirs(dest_dir)\n",
    "\n",
    "        for ext in extensions:\n",
    "            for filename in glob.glob(os.path.join(src_dir, ext)):\n",
    "                shutil.copy(filename, dest_dir)\n",
    "        \n",
    "        lg.debug(cpimg,'Finalizado el proceso copy_imgs sin errores...')\n",
    "        \n",
    "    except Exception as e: \n",
    "        lg.error(cpimg,f'Error en la función copy_imgs .... Error: {e}')\n",
    "        sys.exit(1) #cerrando el proceso.."
   ]
  },
  {
   "cell_type": "markdown",
   "metadata": {},
   "source": [
    "La función ***\"copy_imgs\"*** tiene como objetivo copiar la imagenes desde un directorio \"fuente\" y copiarlas a un directorio de destino.\n",
    "\n",
    "Esta función dispone de 2 argumentos obligatorios y 1 opcional:\n",
    "\n",
    "1. **src_dir**: Este argumento de tipo <u>String</u> es la ruta del directorio \"fuente\".\n",
    "\n",
    "2. **dest_dir**: Este argumento de tipo <u>String</u> es la ruta del directorio donde se quieren que se copien las imágenes.\n",
    "\n",
    "3. **extensions**: Este argumento de tipo <u>Tuple</u> son los tipos de imágenes que se quieren que se tengan en cuenta a la hora de copiar las imágenes. Por defecto, las imágenes en formato\n",
    "\".jpg\", \".jpeg\" y \".png\" serán las que se escojan.\n",
    "\n",
    "En primer lugar, la función comprueba si el directorio de origen existe. En caso de que este no exista, se printeará por pantalla y se saldrá de la función.\n",
    "\n",
    "En segundo lugar, la función comprueba si el directorio de destino existe. En caso que no exista, se creará y seguirá.\n",
    "\n",
    "Por último, tendremos 2 bucles:\n",
    "\n",
    "1. Para las extensiones que se van a tener en cuenta\n",
    "\n",
    "2. Para los nombres que coinciden dentro del directorio de origen.\n",
    "\n",
    "Finalmente, dentro de los bucles, se copian las imágenes al directorio de destino."
   ]
  },
  {
   "cell_type": "markdown",
   "metadata": {},
   "source": [
    "### main_carga_datos.py"
   ]
  },
  {
   "cell_type": "code",
   "execution_count": null,
   "metadata": {},
   "outputs": [],
   "source": [
    "def carga_datos():\n",
    "    \"\"\"\n",
    "    Se busca copiar las imagenes a un directorio alternativo a uno estandarizado dentro de la empresa \n",
    "    y facilitar el uso de los datos para producción.\n",
    "    \"\"\"\n",
    "    \n",
    "    try:\n",
    "        lg.debug(crd,'Iniciando el proceso de carga_datos...')\n",
    "                \n",
    "        #Copia de imagenes de una ruta externa\n",
    "        copy_imgs(src_dir=os.environ['SRC_PATH'], dest_dir=os.environ['DEST_PATH'])\n",
    "        \n",
    "        lg.debug(crd,'Finalizado el proceso carga_datos sin errores...')\n",
    "        \n",
    "    except Exception as e: \n",
    "        lg.error(crd,f'Error en la función carga_datos .... Error: {e}')\n",
    "        sys.exit(1) #cerrando el proceso..."
   ]
  },
  {
   "cell_type": "markdown",
   "metadata": {},
   "source": [
    "La función ***\"carga_datos\"*** se encarga de llamar al resto de funciones para realizar la carga de los datos. En este caso, solamente se llama a la función \"copy_imgs\" del script \"cp_imgs.py\"."
   ]
  },
  {
   "cell_type": "markdown",
   "metadata": {},
   "source": [
    "## <u>Estandarizacion_datos</u>"
   ]
  },
  {
   "cell_type": "markdown",
   "metadata": {},
   "source": [
    "### img_a_rgb.py"
   ]
  },
  {
   "cell_type": "code",
   "execution_count": null,
   "metadata": {},
   "outputs": [],
   "source": [
    "def img_rgb(img_name,full_img_name ,saving_folder): \n",
    "    \"\"\"\n",
    "    Esta función se utiliza para convertir imágenes normales en tipo RGB.\n",
    "    \n",
    "    Parameters\n",
    "    ----------\n",
    "        - img_name : (string) Nombre de la imagen.\n",
    "        - full_img_name : (string) Nombre de la imagen, pero incluye toda la ruta.\n",
    "        - saving_folder : (string) Ruta de la carpeta donde se almacenarán las imágenes modificadas.\n",
    "\n",
    "    Returns\n",
    "    -------\n",
    "        - img_rgb : (tensor) Imagen convertida al nuevo espacio de color.\n",
    "\n",
    "    \"\"\"\n",
    "    lg.debug(iar,'Cambiando el espacio de color de la imagen') \n",
    "    try:\n",
    "        img_in = cv2.imread(full_img_name)\n",
    "        img_rgb = cv2.cvtColor(img_in, cv2.COLOR_BGR2HSV_FULL)\n",
    "        plt.imsave('{}/rgb_{}'.format(saving_folder, img_name),img_rgb)\n",
    "\n",
    "    except Exception as e: \n",
    "        lg.error(iar,f'No se ha podido cambiar el espacio de color con la función \"img_rgb\". Error: {e}')"
   ]
  },
  {
   "cell_type": "markdown",
   "metadata": {},
   "source": [
    "La función ***\"img_rgb\"*** tiene como objetivo cambiar el espacio de color de las imágenes a utilizar en el análisis.\n",
    "\n",
    "3 argumentos obligatorios son los que requieren esta función:\n",
    "\n",
    "1. ***img_name***: Este argumento es solamente el nombre de la imagen, sin la ruta donde se encuentra, en formato **\"String\"**.\n",
    "\n",
    "2. ***full_img_name***: Este argumento es el nombre de la imagen con la ruta donde se encuentra la imagen en formato **\"String\"**.\n",
    "\n",
    "3. ***saving_folder***: La ruta de la carpeta donde se van a guardar las fotos con el espacio de color cambiado.\n",
    "\n",
    "La función comienza leyendo la imagen y lo convierte en un tensor, guardándose en la variable \"img_in\". Tras ello, se cambia el espacio de color de la imagen y se guarda en la variable \"img_rgb\". Posteriormente, se guarda la imagen en la ruta guardada en la variable \"saving_folder\" y el nombre de la imagen será \"rgb_\" + el nombre original de la imagen."
   ]
  },
  {
   "cell_type": "markdown",
   "metadata": {},
   "source": [
    "### main_estandarizacion_datos.py"
   ]
  },
  {
   "cell_type": "code",
   "execution_count": null,
   "metadata": {},
   "outputs": [],
   "source": [
    "def estandarizacion_datos(input_folder, output_folder):\n",
    "    \"\"\"\n",
    "    Esta función llama a los subprocesos necesarios para llevar a cabo el \n",
    "    proceso de estandarización de datos\n",
    "\n",
    "    Parameters\n",
    "    ----------\n",
    "        - input_folder : (string). La ruta de la carpeta donde se encuentran las imágenes que se van a utilizar para el análisis.\n",
    "        - output_folder : (string). Ruta donde se guardarán las imágenes tratadas tras el proceso.\n",
    "\n",
    "    Returns\n",
    "    -------\n",
    "        - Las fotos tratadas ya guardadas en la ruta que se ha indicado en la variable \"output_folder\".\n",
    "\n",
    "    \"\"\"\n",
    "    \n",
    "    lg.debug(med,'Iniciando el proceso de estandarización de datos...')\n",
    "    try:    \n",
    "        for img_in in os.listdir(input_folder):\n",
    "            img_in1 = os.path.join(input_folder,img_in)\n",
    "            if 'rgb' not in img_in.split(\"_\")[0]:\n",
    "                img_rgb(img_in,img_in1,output_folder)\n",
    "\n",
    "        lg.debug(med,'Finalizada la ejecucion de la funcion estandarizacion_datos...')\n",
    "\n",
    "    except Exception as e: \n",
    "        lg.error(med,f'Error en la función estandarizacion_datos .... Error: {e}')\n",
    "        sys.exit(1) #cerrando el proceso...\n",
    "    \n",
    "    print(\"Estandarización de datos completada\")"
   ]
  },
  {
   "cell_type": "markdown",
   "metadata": {},
   "source": [
    "La función ***estandarizacion_datos*** se dedica a llamar a todas las funciones que estan dedicadas a la preparación de las imágenes para su posterior tratamiento.\n",
    "\n",
    "Esta función requiere de 2 argumentos obligatorios:\n",
    "\n",
    "1. ***input_folder***: Directorio, en formato *String*, donde se encuentran las imágenes originales.\n",
    "\n",
    "2. ***output_folder***: Directorio, en formato *String*, donde se almacenarán las imágenes ya modificadas.\n",
    "\n",
    "Hay 1 bucle con las lista de imágenes que hay dentro del directorio donde se encuentran las imágenes originales, donde, en cada iteración, la imagen se guarda en la variable \"img_in\".\n",
    "\"img_in1\" se guarda el directorio completo de la imagen original, que se hace mediante la union de \"input_folder\" y \"img_in\".\n",
    "\n",
    "Tras lo mencionado, se aplica la condicion de que si el 'rgb' no se encuentra dentro de la lista que se crea tras la división del nombre por el caracter \"_\", se realizará el cambio del espacio de color, metiendo como argumentos img_in, img_in1 y output_folder respectivamente.\n",
    "\n",
    "En caso de que este proceso falle, se cerrara el proceso."
   ]
  },
  {
   "cell_type": "markdown",
   "metadata": {},
   "source": [
    "## <u>Models</u>"
   ]
  },
  {
   "cell_type": "markdown",
   "metadata": {},
   "source": [
    "### load_model.py"
   ]
  },
  {
   "cell_type": "code",
   "execution_count": null,
   "metadata": {},
   "outputs": [],
   "source": [
    "def load_model(folder_path): \n",
    "    \"\"\"\n",
    "    Esta funcion predice con un diccionario de modelos los datos de entrada. (Ejemplo no funcional)\n",
    "    \n",
    "    Parameters\n",
    "    ----------\n",
    "        - cnn : (class) Clase donde están almacenados parámetros y funciones del modelo que se van a utilizar.\n",
    "        - name_model : (string) Nombre que tiene el archivo que guarda el modelo.\n",
    "        - folder_path : (string) Ruta donde se encontraría el modelo.\n",
    "\n",
    "    Returns\n",
    "    -------\n",
    "        - Modelo guardado en la carpeta actual o la designada en formato \".h5\"\n",
    "        - Un fichero json que contiene el nombre del modelo base que se utilizó para entrenar este modelo\n",
    "\n",
    "    \"\"\"\n",
    "    \n",
    "    lg.debug(ldmdl,'Cargando el modelo mencionado...')\n",
    "    try:\n",
    "        cnn = CNN()\n",
    "\n",
    "        print(\"Cargando el modelo...\")\n",
    "        modelo = os.path.join(folder_path,os.environ['NAME_MODEL'])\n",
    "        cnn.load(modelo)\n",
    "        \n",
    "    except Exception as e:\n",
    "        lg.error(ldmdl,f'Error en la funcion load_model. Error: {e}')\n",
    "\n",
    "    \n",
    "    lg.debug(ldmdl,'Modelo Cargado')\n",
    "    \n",
    "    return cnn"
   ]
  },
  {
   "cell_type": "markdown",
   "metadata": {},
   "source": [
    "La función ***load_model*** tiene como objetivo cargar un modelo ya entrenado, el cual se requiera únicamente para realizar directamente la predicción de fotos que el modelo no ha visto previamente.\n",
    "\n",
    "Se necesita 1 solo argumento para hacer funcionar esta función:\n",
    "\n",
    "- ***folder_path***: Este argumento es el directorio donde se encuentra almacenado el modelo que se quiere utilizar.\n",
    "\n",
    "En primer lugar, se inicializa la clase ***CNN*** y se va a almacenar en la variable \"cnn\". Tras esto, se va a crear una variable llamada \"modelo\", que contendrá la ruta completa del modelo, que viene de la unión de la variable \"folder_path\" y la variable de entorno \"NAME_MODEL\" .\n",
    "\n",
    "Por último, se va a llamar a la función \"load\", que se encuentra dentro de \"cnn\", a la cual se le tiene que añadir como argumento la ruta del modelo que se quiere cargar y la variable \"modelo\" será la que se encargue de ello.\n",
    "\n",
    "Tras realizar toda la función, la clase \"cnn\" con el modelo cargado dentro.\n",
    "\n"
   ]
  },
  {
   "cell_type": "markdown",
   "metadata": {},
   "source": [
    "### predictions.py"
   ]
  },
  {
   "cell_type": "code",
   "execution_count": null,
   "metadata": {},
   "outputs": [],
   "source": [
    "def predictions(folder_path,partition_name, cnn, save_results, save_results_path): \n",
    "    \"\"\"\n",
    "    Esta funcion predice con un diccionario de modelos los datos de entrada. (Ejemplo no funcional)\n",
    "    \n",
    "    Parameters\n",
    "    ----------\n",
    "        - folder_path : (string) Ruta donde se situán los datos de los que se quiere realizar la predicción.\n",
    "        - partition_name : (string) Nombre de la partición de la que se va a realizar la predicción. (Test, principalmente)\n",
    "        - cnn : (class) Clase donde están almacenados parámetros y funciones del modelo que se van a utilizar.\n",
    "        - save_results : (boolean) Para saber si se quieren guardar los resultados de las predicciones.\n",
    "        - save_results_path : (String) Ruta donde se guardarán los resultados.\n",
    "        \n",
    "    Returns\n",
    "    -------\n",
    "        - Predicción de los datos y su respectiva tabla de confusión.\n",
    "\n",
    "    \"\"\"\n",
    "    lg.debug(predic,'Realizando predicciones...')\n",
    "    try:\n",
    "        cnn.predict(test_dir=folder_path,dataset_name=partition_name, save=save_results, results_folder=save_results_path)\n",
    "        \n",
    "    except Exception as e: \n",
    "        lg.error(predic,f'Error en la funcion predictions. Error: {e}')\n",
    "    \n",
    "    \n",
    "    lg.debug(predic,'Predicciones realizadas')"
   ]
  },
  {
   "cell_type": "markdown",
   "metadata": {},
   "source": [
    "La función ***predictions*** tiene como objetivo realizar las predicciones de nuevas fotos que el modelo no ha visto previamente.\n",
    "\n",
    "La cantidad de argumentos que hay que insertar en esta función son los siguientes:\n",
    "\n",
    "1. ***folder_path***: Este argumento, que debe ser en formato *String*, es la ruta donde se encuentran las imágnes de las que se va a realizar la predicción.\n",
    "\n",
    "2. ***partition_name***: Argumento en formato *string* que indica el nombre de la partición que se ha utilizado en esta función. Generalemente, en esta función, se va a utilizar la partición de \"test\".\n",
    "\n",
    "3. ***cnn***: Argumento en formato *clase* que contiene el modelo entrenado o cargado previamente.\n",
    "\n",
    "4. ***save_results***: Este argumento, que se encuentra en formato *Boolean*, determina si los resultados que han producido se van a guardar o no.\n",
    "\n",
    "5. ***save_results_path***: Este argumento es el que determina donde se van a guardar los resultados, que es una ruta a una carpeta- en formato *string*.\n",
    "\n",
    "La función se encarga de llamar a la función predict que se encuentra dentro de la variable \"cnn\". El resto de argumentos que se han incluido en la función se incluyen dentro de la función."
   ]
  },
  {
   "cell_type": "markdown",
   "metadata": {},
   "source": [
    "### save_model.py"
   ]
  },
  {
   "cell_type": "code",
   "execution_count": null,
   "metadata": {},
   "outputs": [],
   "source": [
    "def save_model(cnn,folder_path,name_model): \n",
    "    \"\"\"\n",
    "    Esta funcion predice con un diccionario de modelos los datos de entrada. (Ejemplo no funcional)\n",
    "    \n",
    "    Parameters\n",
    "    ----------\n",
    "        - cnn : (class) Clase donde están almacenados parámetros y funciones del modelo que se van a utilizar.\n",
    "        - name_model : (string) Nombre del modelo base utilizado que se usará como parte del nombre del modelo a guardar.\n",
    "        - folder_path : (string) Ruta donde se guardaría el modelo.\n",
    "\n",
    "    Returns\n",
    "    -------\n",
    "        - Modelo guardado en la carpeta actual o la designada\n",
    "\n",
    "    \"\"\"\n",
    "    lg.debug(svmd,'Guardando el modelo entrenado...')\n",
    "    try:        \n",
    "        \n",
    "\n",
    "    \n",
    "        saving_name = folder_path+name_model+str(datetime.now().today().date()).replace(\"-\",\"_\")+\"_\"+datetime.now().time().strftime(\"%H%M\")\n",
    "        # saving_name = nombre del modelo + fecha de hoy (formato: year_month_day) + hora (formato: horaminutos. *Nota: Todo junto, no esta buggeado.)\n",
    "        cnn.save(saving_name)\n",
    "        \n",
    "    except Exception as e: \n",
    "        lg.error(svmd,f'Error en la funcion save_model. Error: {e}')\n",
    "    \n",
    "    lg.debug(svmd,'Modelo Guardado')"
   ]
  },
  {
   "cell_type": "markdown",
   "metadata": {},
   "source": [
    "La función ***save_model*** tiene como objetivo guardar el modelo que se ha entrenado.\n",
    "\n",
    "3 son los argumentos necesarios para usar esta función:\n",
    "\n",
    "1. ***cnn***: Este argumento es que almacena el modelo que se quiere guardar, que se encuentra en formato *class*.\n",
    "\n",
    "2. ***folder_path***: Este argumento, que debe ser en formato *String*, es la ruta donde se va a guardar el modelo.\n",
    "\n",
    "3. ***name_model***: Este argumento es el nombre del modelo, que debe encontrarse en formato *String*.\n",
    "\n",
    "La función comienza creando el nombre que se le quiere otorgar al modelo, en este caso, el nombre estará compuesto por el nombre del modelo base que ha utilizado, que se encuentra en la variable \"name_model\", más la fecha del día en el que se entrena, en la que se reemplazará el caracter \"-\" por \"_\" y, por último, se le añadirá la hora y el minuto.\n",
    "\n",
    "Tras ello, se utilizará la función \"save\", que se encuentra dentro de la clase \"cnn\", guardando el modelo en un archivo \".h5\" y el nombre del modelo base utilizado en un archivo \".json\"."
   ]
  },
  {
   "cell_type": "markdown",
   "metadata": {},
   "source": [
    "### training_results.py"
   ]
  },
  {
   "cell_type": "code",
   "execution_count": null,
   "metadata": {},
   "outputs": [],
   "source": [
    "def train_val_results(training_folder_path, validation_folder_path, cnn, sv_rslt_train, sv_rslt_val, saving_path): \n",
    "    \"\"\"\n",
    "    Esta funcion predice con un diccionario de modelos los datos de entrada. (Ejemplo no funcional)\n",
    "    \n",
    "    Parameters\n",
    "    ----------\n",
    "        - training_folder_path : (string) Ruta donde se encuentra la partición de entrenamiento.\n",
    "        - validation_folder_path : (string) Ruta donde se encuentra la partición de validación.\n",
    "        - cnn : (class) Objeto que contiene el modelo y funciones para ejecutar sobre este.\n",
    "        - sv_rslt_train : (Boolean) Variable que determina si se van a guardar o no los resultados de entrenamiento.\n",
    "        - sv_rslt_val : (Boolean) Variable que determina si se van a guardar o no los resultados de validación.\n",
    "        - saving_path : (String) Ruta donde se van a guardar los resultados obtenidos.\n",
    "    Returns\n",
    "    -------\n",
    "        - Predicción de los datos y su respectiva tabla de confusión.\n",
    "\n",
    "    \"\"\"\n",
    "    lg.debug(tr_rslt,'Representando los resultados de la fase de entrenamiento...')\n",
    "    try:\n",
    "        cnn.predict(results_folder=saving_path,test_dir=training_folder_path,dataset_name=\"Training\",save=sv_rslt_train)\n",
    "        cnn.predict(results_folder=saving_path,test_dir=validation_folder_path, dataset_name=\"Validation\", save=sv_rslt_val)\n",
    "        \n",
    "    except Exception as e: \n",
    "        lg.error(tr_rslt,f'Error en la funcion train_results. Error: {e}')\n",
    "    \n",
    "    \n",
    "    lg.debug(tr_rslt,'Resultado del entrenamiento')"
   ]
  },
  {
   "cell_type": "markdown",
   "metadata": {},
   "source": [
    "La función ***train_val_results*** tiene como objetivo mostrar los resultados obtenidos durante la fase de entrenamiento y de validación.\n",
    "\n",
    "La cantidad de argumentos que hay que insertar en esta función son los siguientes:\n",
    "\n",
    "1. ***training_folder_path***: Este argumento, que debe ser en formato *String*, es la ruta donde se encuentran las imágenes con las que se ha realizado la fase de entrenamiento.\n",
    "\n",
    "2. ***validation_folder_path***: Este argumento, que debe ser en formato *String*, es la ruta donde se encuentran las imágenes con las que se ha realizado la fase de validación.\n",
    "\n",
    "3. ***cnn***: Argumento en formato *clase* que contiene el modelo entrenado o cargado previamente.\n",
    "\n",
    "4. ***sv_rslt_train***: Este argumento, que se encuentra en formato *Boolean*, determina si los resultados de la fase entrenamiento que han producido se van a guardar o no.\n",
    "\n",
    "5. ***sv_rslt_val***: Este argumento, que se encuentra en formato *Boolean*, determina si los resultados de la fase de validación que se han producido se van a guardar o no.\n",
    "\n",
    "6. ***saving_path***: Este argumento es el que determina donde se van a guardar los resultados, que es una ruta a una carpeta en formato *string*.\n",
    "\n",
    "La función se encarga de llamar a la función predict que se encuentra dentro de la variable \"cnn\". En esta ocasión, se van a llamar 2 veces. La primera es para los resultados de la fase de entrenamiento, en la que se utilizarán las variables \"training_folder_path\", \"saving_path\", \"cnn\", \"sv_rslt_train\" y \"saving_path\" "
   ]
  },
  {
   "cell_type": "markdown",
   "metadata": {},
   "source": [
    "### training.py"
   ]
  },
  {
   "cell_type": "code",
   "execution_count": null,
   "metadata": {},
   "outputs": [],
   "source": [
    "def training(cnn,training_dir: str, validation_dir: str, base_model: str, epochs: int = 1,\n",
    "              unfreezed_convolutional_layers: int = 0, training_batch_size: int = 32, validation_batch_size: int = 32,\n",
    "              learning_rate: float = 1e-4, beta_1: float = 0.7, beta_2: float = 0.99, epsilon: float = 0.1):\n",
    "    \"\"\"\n",
    "    Esta función permite entrenar el modelo.\n",
    "    \n",
    "    Parameters\n",
    "    ----------\n",
    "        - cnn : (class) Variable que almacena todas las funciones y parámetros del modelo.\n",
    "        - training_dir : (String) Directorio donde se encuentra la partición de entrenamiento.\n",
    "        - validation_dir : (String) Directorio donde se encuentra la partición de validación.\n",
    "        - base_model : (String) Modelo preentrenado que se va a utilizar como modelo base de esta red.\n",
    "        - epochs : (Int) Default = 1. Número de veces que el modelo va a recorrer el dataset durante el entrenamiento.\n",
    "        - unfreezed_convolutional_layers: (Int) Default = 0. Empezando desde el final, número de capas convolucionales que se entrenarán.\n",
    "        - training_batch_size: (Int) Default = 32. Número de ejemplos usados del conjunto de entrenamiento.\n",
    "        - validation_batch_size: (Int) Default = 32. Número de ejemplos usados del conjunto de validación.\n",
    "        - learning_rate: (float) Default = 1e-4. Hiperparámetro learning rate. Determina como de rapido aprenderá el algoritmo cada vez que se entrena.\n",
    "        - beta_1: (float) Default = 0.7. Hiperparámetro que indica el factor de decrecimiento exponencial para la estimación de la media de los gradientes.\n",
    "        - beta_2: (float) Default = 0.99. Hiperparámetro que indica el factor de decrecimiento exponencial para la estimación de la varianza de los gradientes.\n",
    "        - epsilon: (float) Default = 0.1. Hiperparámetro que sirve para \"suavizar\", evitando problemas numéricos.\n",
    "\n",
    "    Returns\n",
    "    -------\n",
    "        - cnn : (class) clase con el modelo entrenado.\n",
    "\n",
    "    \"\"\"\n",
    "\n",
    "    \n",
    "\n",
    "    try:\n",
    "        if not cnn:   \n",
    "            cnn = CNN()\n",
    "        \n",
    "        cnn.train(training_dir=training_dir, \n",
    "                  validation_dir=validation_dir, \n",
    "                  base_model=base_model, \n",
    "                  epochs=epochs, \n",
    "                  learning_rate=learning_rate, \n",
    "                  training_batch_size=training_batch_size, \n",
    "                  validation_batch_size=validation_batch_size, \n",
    "                  beta_1=beta_1, beta_2=beta_2, epsilon=epsilon, \n",
    "                  unfreezed_convolutional_layers=unfreezed_convolutional_layers)\n",
    "\n",
    "         \n",
    "    except Exception as e: \n",
    "        lg.error(train,f'Error en la función training .... Error: {e}')\n",
    "\n",
    "    return cnn"
   ]
  },
  {
   "cell_type": "markdown",
   "metadata": {},
   "source": [
    "La función ***training*** tiene como objetivo mostrar los resultados obtenidos durante la fase de entrenamiento y de validación.\n",
    "\n",
    "La cantidad de argumentos que hay que insertar en esta función son los siguientes:\n",
    "\n",
    "1. ***cnn***: Argumento en formato *clase* que contiene unicamente la clase inicializada.\n",
    "\n",
    "2. ***training_dir***: Este argumento, que debe ser en formato *String*, es la ruta donde se encuentran las imágenes con las que se ha realizado la fase de entrenamiento.\n",
    "\n",
    "3. ***validation_dir***: Este argumento, que debe ser en formato *String*, es la ruta donde se encuentran las imágenes con las que se ha realizado la fase de validación.\n",
    "\n",
    "4. ***base_model***: Nombre, en formato *String*, del modelo preentrenado que se usará como parte del modelo final. \n",
    "\n",
    "5. ***epochs***: Este argumento, que se encuentra en formato *Boolean*, determina si los resultados de la fase de validación que se han producido se van a guardar o no. Por defecto, este valor será 1.\n",
    "\n",
    "6. ***learning_rate***: Este argumento es el que determina donde se van a guardar los resultados, que es una ruta a una carpeta en formato *string*.\n",
    "\n",
    "7. ***training_batch_size***: Número de imágenes que se usarán en cada época como conjunto de entrenamiento.\n",
    "\n",
    "8. ***validation_batch_size***: Número de imágenes que se usarán en cada época como conjunto de validación.\n",
    "\n",
    "9. ***beta_1***:  Hiperparámetro que indica el factor de decrecimiento exponencial para la estimación de la media de los gradientes. Por defecto, este valor será 0,7.\n",
    "\n",
    "10. ***beta_2***: Hiperparámetro que indica el factor de decrecimiento exponencial para la estimación de la varianza de los gradientes. Por defecto, este valor será 0,99.\n",
    "\n",
    "11. ***epsilon***: Hiperparámetro que sirve para \"suavizar\", evitando problemas numéricos. Por defecto, este valor será 0,1.\n",
    "\n",
    "12. ***unfreezed_convolutional_layers***: Empezando desde el final, número de capas convolucionales que se entrenarán. Por defecto este valor será 0.\n",
    "\n",
    "La función comienza comprobando si \"cnn\" esta inicializada, en caso contrario, \"cnn\" será inicializada. Tras esto, se procede a utilizar la función que dispone esta clase llamada \"train\", que se encarga de realizar el enetrenamiento de un nuevo algoritmo. Esta función necesita de todos los argumentos mencionados para funcionar, excepto de aquellos de los que ya dispone un valor por defecto, pero es recomendable modificarlo.\n",
    "\n",
    "Una vez se ha entrenado el nuevo modelo, la función principal devuelve \"cnn\" con el nuevo modelo ya entrenado."
   ]
  },
  {
   "cell_type": "markdown",
   "metadata": {},
   "source": [
    "## <u>Train</u>"
   ]
  },
  {
   "cell_type": "markdown",
   "metadata": {},
   "source": [
    "### main_train.py"
   ]
  },
  {
   "cell_type": "code",
   "execution_count": null,
   "metadata": {},
   "outputs": [],
   "source": [
    "def train(save_mdl):\n",
    "    \"\"\"\n",
    "    Esta función llama a los subprocesos necesarios para llevar a cabo el \n",
    "    proceso de predicción de datos.\n",
    "\n",
    "    Parameters\n",
    "    ----------\n",
    "        - cnn : (class) Clase donde están alamcenados muchos parámetros y funciones que son aplicables al modelo.\n",
    "        - modelo : (string) El nombre del archivo que contiene el modelo/ruta + archivo con el modelo. Solo utilizar en caso que se quiera cargar un modelo.\n",
    "        - load : (Boolean) Valor que determina si queremos guardar \n",
    "        - train : (Boolean)\n",
    "\n",
    "    Returns\n",
    "    -------\n",
    "        - dict_predictions : (dict) description.\n",
    "\n",
    "    \"\"\"\n",
    "    \n",
    "    lg.debug(mtrn,'Iniciando el proceso de predicción...')\n",
    "    \n",
    "    cnn = CNN()\n",
    "    save_mdl = save_mdl.lower() == \"true\"\n",
    "    try:\n",
    "        cnn = training(cnn, training_dir=os.environ['TRAIN_DIR'], \n",
    "                       validation_dir=os.environ['VALID_DIR'], \n",
    "                       base_model=os.environ['BASE_MODEL'], \n",
    "                       epochs=int(os.environ['EPOCHS']), \n",
    "                       learning_rate=float(os.environ['LEARNING_RATE']),\n",
    "                       training_batch_size=int(os.environ['TRAIN_BATCH']),\n",
    "                       validation_batch_size=int(os.environ['VALID_BATCH']), \n",
    "                       beta_1=float(os.environ['BETA_1']),\n",
    "                       beta_2=float(os.environ['BETA_2']),\n",
    "                       epsilon=float(os.environ['EPSILON']))\n",
    "        if save_mdl:\n",
    "            save_model(cnn=cnn, folder_path=os.environ['SAVING_FOLDER'],name_model=os.environ['BASE_MODEL'])\n",
    "        \n",
    "        save_rslt_train = os.environ['SAVE_RESULTS_TRAINING'].lower() == \"true\"\n",
    "        save_rslt_val = os.environ['SAVE_RESULTS_VALIDATION'].lower() == \"true\"\n",
    "        train_val_results(os.environ['TRAIN_DIR'], os.environ['VALID_DIR'],\n",
    "                          cnn, sv_rslt_train=save_rslt_train, \n",
    "                          sv_rslt_val=save_rslt_val, saving_path=os.environ['SAVE_RESULTS_FOLDER'])\n",
    "\n",
    "        lg.debug(mtrn,'Finalizado el proceso de entrenamiento...')\n",
    "        \n",
    "    except Exception as e: \n",
    "        lg.error(mtrn,f'Error en la función train .... Error: {e}')\n",
    "        sys.exit(1)\n",
    "    \n",
    "    return cnn"
   ]
  },
  {
   "cell_type": "markdown",
   "metadata": {},
   "source": [
    "La función \"train\" es una función que su función principal es inicializar las funciones necesarias que hay en la carpetas \"Models\" que tienen como función principal llegar a poder entrenar un modelo.\n",
    "Si se carga un modelo ya entrenado, esta fase se saltará.\n",
    "\n",
    "Esta función solamente tiene un argumento:\n",
    "\n",
    "- ***save_mdl***: Este argumento, en formato *boolean*, determina si se quiere guardar o no el modelo recien entrenado.\n",
    "\n",
    "En primer lugar, se inicializará la clase CNN, guardándose en la variable \"cnn\". Tras esto, se mirará si se quiere guardar el modelo que se quiere entrenar posteriormente y se guardará en la variable \"save_mdl\".\n",
    "Tras esto, se utilizará la función training, previamente explicada, cuyos argumentos están guardados todos en el archivo \".env\", y los resultados se guardarán la variable \"cnn\", sobreescribiendo la anterior creada.\n",
    "En caso de que \"save_mdl\" sea True, se utilizará la función \"save_model\" para guardar el modelo, tal y como se ha explicando anteriormente.\n",
    "\n",
    "Tras esto, se mirarán si los resultados obtenidos, tanto en la fase de entrenamiento como en la fase de validación, se quieren guardar con las variables \"save_rslt_train\" para el train y \"save_rslt_val\" para la validación.\n",
    "Posteriormente, se usará la función \"train_val_results\".\n",
    "\n",
    "Una vez terminado este proceso, se devolverá la variable \"cnn\" con el modelo entrenado."
   ]
  },
  {
   "cell_type": "markdown",
   "metadata": {},
   "source": [
    "## <u>Predict</u>"
   ]
  },
  {
   "cell_type": "markdown",
   "metadata": {},
   "source": [
    "### main_predict.py"
   ]
  },
  {
   "cell_type": "code",
   "execution_count": null,
   "metadata": {},
   "outputs": [],
   "source": [
    "def predict(cnn = False):\n",
    "    '''\n",
    "    Esta función llama a los subprocesos necesarios para llevar a cabo el \n",
    "    proceso de predicción de datos.\n",
    "\n",
    "    Parameters\n",
    "    ----------\n",
    "        - cnn : (class) Clase donde están alamcenados muchos parámetros y funciones que son aplicables al modelo.\n",
    "        - modelo : (string) El nombre del archivo que contiene el modelo/ruta + archivo con el modelo. Solo utilizar en caso que se quiera cargar un modelo.\n",
    "        - load : (Boolean) Valor que determina si queremos guardar \n",
    "        - train : (Boolean)\n",
    "\n",
    "    Returns\n",
    "    -------\n",
    "        - dict_predictions : (dict) description.\n",
    "\n",
    "    '''\n",
    "    \n",
    "    lg.debug(mpdt,'Iniciando el proceso de predicción...')\n",
    "    \n",
    "    \n",
    "    \n",
    "    try:\n",
    "        load = os.environ['LOAD'].lower() == 'true'\n",
    "\n",
    "        if load:\n",
    "            cnn = load_model(os.environ['LOADING_MODEL'])\n",
    "        \n",
    "        save_results_test = os.environ['SAVE_RESULTS_TEST'].lower() == 'true'\n",
    "        print(os.environ['TEST_DIR'])\n",
    "        predictions(folder_path=os.environ['TEST_DIR'], partition_name='Test', cnn=cnn, save_results=save_results_test, save_results_path=os.environ['SAVE_RESULTS_FOLDER'])\n",
    "\n",
    "        lg.debug(mpdt,'Finalizado el proceso de predicción...')\n",
    "        \n",
    "    except Exception as e: \n",
    "        lg.error(mpdt,f'Error en la función predict .... Error: {e}')\n",
    "        #sys.exit(1)\n",
    "    \n",
    "    return cnn"
   ]
  },
  {
   "cell_type": "markdown",
   "metadata": {},
   "source": [
    "La función \"predict\" tiene como objetivo llamar a todas las funciones de la carpeta \"Models\" que se utilicen para realizar la predicción de nuevos datos.\n",
    "\n",
    "Esta función tiene 1 argumento:\n",
    "\n",
    "- ***cnn***: Este argumento es la clase \"cnn\" creada en el script \"main_train.py\". Su valor por defecto es \"False\", ya que si se quiere cargar directamente el modelo, no es necesario que introduzcamos nada.\n",
    "\n",
    "En primer lugar, se comprueba si se quiere cargar un modelo de los que ya se dispone y se guarda en la variable \"load\". En caso que se quiere cargar un modelo, se utilizará la función \"load_model\" y se guardará el modelo cargado en la variable \"cnn\".\n",
    "A continuación, se mirará si se quieren guardar los resultados de la predicción y se guardará en la variable \"save_results_test\". Posteriormente, se usará la función \"predictions\" para realizar las predicciones de estos nuevos datos.\n",
    "\n",
    "FInalmente, la función principal devuelve \"cnn\"."
   ]
  },
  {
   "cell_type": "markdown",
   "metadata": {},
   "source": [
    "## <u>Otros Scripts</u>"
   ]
  },
  {
   "cell_type": "markdown",
   "metadata": {},
   "source": [
    "### .env"
   ]
  },
  {
   "cell_type": "markdown",
   "metadata": {},
   "source": [
    "Este archivo guarda todas las variables que se quieren modificar cada vez que se realizar este proceso, como puede ser la ruta del directorio de imágenes de entrenamiento o la de validación."
   ]
  },
  {
   "cell_type": "markdown",
   "metadata": {},
   "source": [
    "### cnn.py"
   ]
  },
  {
   "cell_type": "markdown",
   "metadata": {},
   "source": [
    "Este archivo contiene la clase CNN y todas sus funciones."
   ]
  },
  {
   "cell_type": "markdown",
   "metadata": {},
   "source": [
    "### main.py"
   ]
  },
  {
   "cell_type": "code",
   "execution_count": null,
   "metadata": {},
   "outputs": [],
   "source": [
    "def main(): \n",
    "    \"\"\"\n",
    "    Se trata del main de esquema_inferir. Aquí se llama a los procesos que se han de\n",
    "    ejecutarse.\n",
    "\n",
    "    \n",
    "    \"\"\"\n",
    "    lg.info(log_name_main,'Iniciando ejecución esquema train...')\n",
    "\n",
    "    \n",
    "    \n",
    "    \"\"\"\n",
    "    Carga de Datos\n",
    "    \"\"\"\n",
    "    carga_datos()\n",
    "    \n",
    "    \"\"\"\n",
    "    Estandarización de datos\n",
    "    \"\"\"\n",
    "    estandarizacion_datos(input_folder=os.environ['INPUT_FOLDER_IMAGENES'],output_folder=os.environ['OUTPUT_FOLDER_IMAGENES'])\n",
    "\n",
    "    \"\"\"\n",
    "    Entrenamiento\n",
    "    \"\"\"\n",
    "    training = os.environ['TRAIN'].lower() == \"true\"\n",
    "    if training:\n",
    "        cnn = train(save_mdl=os.environ['SAVE_MDL'])\n",
    "    \n",
    "    \"\"\"\n",
    "    Predict\n",
    "    \"\"\"\n",
    "    prediction_val = os.environ['PREDICTION'].lower() == \"true\"\n",
    "    if prediction_val:\n",
    "        if training:\n",
    "            predict(cnn)\n",
    "        else:\n",
    "            predict()\n",
    "\n",
    "    \n",
    "    \"\"\"\n",
    "    Delivery\n",
    "    \"\"\"    \n",
    "    #delivery(dict_predictions, dict_inputs, dict_audit_inputs, conn)\n",
    "    \n",
    "    \n",
    "    lg.info(log_name_main,'Finalizando ejecución esquema train...')\n",
    "\n",
    "    \n",
    "main()"
   ]
  },
  {
   "cell_type": "markdown",
   "metadata": {},
   "source": [
    "La función \"main\" se dedica a juntar todas las funciones principales que se encuentran en los archivos \"main.py\" y hacer que se realice todo el proceso.\n",
    "\n",
    "No dispone de argumentos. \n",
    "\n",
    "En primer lugar, se realizará la carga de los datos mediante la función \"carga_datos\", para luego utilizar la función \"estandarizacion_datos\" para realizar los cambios que se buscan antes de realizar el análisis de las imágenes.\n",
    "Tras esto, se mirará si se busca si se quiere realizar un entrenamiento de un nuevo modelo y se guardará en la variable \"training\". En caso de que sea \"True\", se entrenará un nuevo modelo con la función \"train\" y se guardará en la variable \"cnn\".\n",
    "Posteriormente, se mirará si se quieren realizar predicciones de nuevos datos. En caso de que este valor sea \"True\", se mirará si se ha realizado un entrenamiento previo, ya que si se ha hecho, hay que introducir \"cnn\" en la función \"predict\", en caso contrario,\n",
    "no se introducirá ningún argumento a la función."
   ]
  },
  {
   "cell_type": "markdown",
   "metadata": {},
   "source": [
    "### requirements.txt"
   ]
  },
  {
   "cell_type": "markdown",
   "metadata": {},
   "source": [
    "Este archivo contiene las librerías y la versión utilizada para hacer este proyecto con el objetivo de poder replicarlo sin que haya fallos por el versionado de las librerías."
   ]
  },
  {
   "cell_type": "markdown",
   "metadata": {},
   "source": [
    "### results.py"
   ]
  },
  {
   "cell_type": "markdown",
   "metadata": {},
   "source": [
    "Es un script que se utiliza dentro del script \"cnn.py\" cuya función principal es representar, si se pide dentro de \"cnn.py\" los resultados que se han obtenido."
   ]
  },
  {
   "cell_type": "markdown",
   "metadata": {},
   "source": []
  }
 ],
 "metadata": {
  "kernelspec": {
   "display_name": "dl_conda",
   "language": "python",
   "name": "python3"
  },
  "language_info": {
   "codemirror_mode": {
    "name": "ipython",
    "version": 3
   },
   "file_extension": ".py",
   "mimetype": "text/x-python",
   "name": "python",
   "nbconvert_exporter": "python",
   "pygments_lexer": "ipython3",
   "version": "3.11.5"
  },
  "orig_nbformat": 4
 },
 "nbformat": 4,
 "nbformat_minor": 2
}
