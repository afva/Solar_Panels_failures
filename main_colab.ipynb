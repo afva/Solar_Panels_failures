{
  "cells": [
    {
      "cell_type": "markdown",
      "metadata": {
        "id": "view-in-github",
        "colab_type": "text"
      },
      "source": [
        "<a href=\"https://colab.research.google.com/github/afva/Solar_Panels_failures/blob/main/Copia_de_main.ipynb\" target=\"_parent\"><img src=\"https://colab.research.google.com/assets/colab-badge.svg\" alt=\"Open In Colab\"/></a>"
      ]
    },
    {
      "cell_type": "code",
      "source": [
        "!git clone https://github.com/afva/Solar_Panels_failures.git"
      ],
      "metadata": {
        "id": "PxFvk9ftziiJ",
        "outputId": "1812fba9-cd41-4cd5-a9ec-be74230d5d6c",
        "colab": {
          "base_uri": "https://localhost:8080/"
        }
      },
      "id": "PxFvk9ftziiJ",
      "execution_count": null,
      "outputs": [
        {
          "output_type": "stream",
          "name": "stdout",
          "text": [
            "Cloning into 'Solar_Panels_failures'...\n",
            "remote: Enumerating objects: 270, done.\u001b[K\n",
            "remote: Counting objects: 100% (270/270), done.\u001b[K\n",
            "remote: Compressing objects: 100% (250/250), done.\u001b[K\n",
            "remote: Total 270 (delta 23), reused 261 (delta 17), pack-reused 0\u001b[K\n",
            "Receiving objects: 100% (270/270), 3.75 MiB | 8.66 MiB/s, done.\n",
            "Resolving deltas: 100% (23/23), done.\n"
          ]
        }
      ]
    },
    {
      "cell_type": "code",
      "source": [
        "cd Solar_Panels_failures/"
      ],
      "metadata": {
        "id": "4LW-9_ZrzohK",
        "outputId": "74272842-e2d8-49d9-9039-155844705715",
        "colab": {
          "base_uri": "https://localhost:8080/"
        }
      },
      "id": "4LW-9_ZrzohK",
      "execution_count": null,
      "outputs": [
        {
          "output_type": "stream",
          "name": "stdout",
          "text": [
            "/content/Solar_Panels_failures\n"
          ]
        }
      ]
    },
    {
      "cell_type": "code",
      "execution_count": null,
      "id": "28a66bd2-803f-4dbc-bee8-9722e34f9d53",
      "metadata": {
        "tags": [],
        "id": "28a66bd2-803f-4dbc-bee8-9722e34f9d53"
      },
      "outputs": [],
      "source": [
        "import os\n",
        "from cnn import CNN\n",
        "from transform_color_space import transform_images\n",
        "import warnings\n",
        "import matplotlib.pyplot as plt\n",
        "import matplotlib.image as mpimg\n",
        "warnings.filterwarnings(\"ignore\")"
      ]
    },
    {
      "cell_type": "markdown",
      "id": "9af849f1-3391-48d1-93f0-550faeea92af",
      "metadata": {
        "id": "9af849f1-3391-48d1-93f0-550faeea92af"
      },
      "source": [
        "# Objetive\n",
        "The problem to be solved is a real-world issue in which the goal is to detect faults in solar panels through the analysis of thermographs. To achieve this, the images with faults and those without faults have been separated, and a transfer learning process has been conducted using a ResNet50 neural network (the Classes and Functions have tips)"
      ]
    },
    {
      "cell_type": "code",
      "execution_count": null,
      "id": "71cd6aba-34b6-48d1-bfd2-6541cd00a5c3",
      "metadata": {
        "tags": [],
        "id": "71cd6aba-34b6-48d1-bfd2-6541cd00a5c3"
      },
      "outputs": [],
      "source": [
        "training_dir = 'strings/train'\n",
        "validation_dir = 'strings/validation'\n",
        "\n",
        "img_defect = mpimg.imread(training_dir + '/defect/' + os.listdir(training_dir + '/defect/')[1])\n",
        "img_no_defect = mpimg.imread(training_dir + '/no-defect/' + os.listdir(training_dir + '/no-defect/')[2])\n",
        "\n",
        "fig, axs = plt.subplots(1,2)\n",
        "axs[0].imshow(img_defect)\n",
        "axs[0].set_title('String with failures')\n",
        "axs[1].imshow(img_no_defect)\n",
        "axs[1].set_title('String without failures')\n",
        "plt.show()\n"
      ]
    },
    {
      "cell_type": "markdown",
      "id": "1d845c84-d678-46d8-9374-b5c86fc8605a",
      "metadata": {
        "id": "1d845c84-d678-46d8-9374-b5c86fc8605a"
      },
      "source": [
        "#### The failures are the hot spots in the panel that are easy to check using thermography, but solar plants have hundreds of strings and thousands of panels."
      ]
    },
    {
      "cell_type": "markdown",
      "id": "baefbbd7-2e13-402a-bfce-b9ac19171391",
      "metadata": {
        "id": "baefbbd7-2e13-402a-bfce-b9ac19171391"
      },
      "source": [
        "# TRAIN\n",
        "\n",
        "After many iterations and changes in the CNN, the best results were achieved by unfreezing all the neurons in the ResNet50 architecture and applying a three-layer densely connected recurrent neural network (RNN). Regularization techniques were used to reduce overfitting, including the use of dropout.\n",
        "- The best classification results is using the parameters that we have here:"
      ]
    },
    {
      "cell_type": "code",
      "execution_count": null,
      "id": "446e343d-2075-48f1-88a6-635855f58a11",
      "metadata": {
        "id": "446e343d-2075-48f1-88a6-635855f58a11"
      },
      "outputs": [],
      "source": [
        "\n",
        "\n",
        "cnn = CNN()\n",
        "bm = 'ResNet50'\n",
        "epochs = 89\n",
        "lr = 1e-4\n",
        "beta_1 = 0.3\n",
        "cnn.train(training_dir, validation_dir, base_model=bm, epochs=epochs, learning_rate = lr,\n",
        "          training_batch_size=64, validation_batch_size=64, beta_1=beta_1, epsilon=1e-5)\n",
        "cnn.save(f'{bm}_{epochs}_{lr}_{beta_1}')"
      ]
    },
    {
      "cell_type": "markdown",
      "id": "42cf0a82-ddb7-43bf-a55e-f1406284e94d",
      "metadata": {
        "id": "42cf0a82-ddb7-43bf-a55e-f1406284e94d"
      },
      "source": [
        "# PREDICT"
      ]
    },
    {
      "cell_type": "code",
      "execution_count": null,
      "id": "ec135c10-51ec-4361-b929-6a9c21f40236",
      "metadata": {
        "id": "ec135c10-51ec-4361-b929-6a9c21f40236"
      },
      "outputs": [],
      "source": [
        "print(f'{bm}_{epochs}_{lr}_{beta_1}')\n",
        "cnn.load(f'{bm}_{epochs}_{lr}_{beta_1}')\n",
        "# El mejor modelo hasta ahora es el ResNet50_89_0.0001_0.3\n",
        "\n",
        "\n",
        "#\n",
        "cnn.predict(\"training\", training_dir, save= True)\n",
        "cnn.predict(\"validation\", validation_dir,save = True)"
      ]
    }
  ],
  "metadata": {
    "kernelspec": {
      "display_name": "Python 3 (ipykernel)",
      "language": "python",
      "name": "python3"
    },
    "language_info": {
      "codemirror_mode": {
        "name": "ipython",
        "version": 3
      },
      "file_extension": ".py",
      "mimetype": "text/x-python",
      "name": "python",
      "nbconvert_exporter": "python",
      "pygments_lexer": "ipython3",
      "version": "3.9.18"
    },
    "colab": {
      "provenance": [],
      "include_colab_link": true
    }
  },
  "nbformat": 4,
  "nbformat_minor": 5
}
